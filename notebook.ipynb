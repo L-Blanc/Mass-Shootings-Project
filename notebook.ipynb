{
 "cells": [
  {
   "attachments": {},
   "cell_type": "markdown",
   "metadata": {},
   "source": [
    "\n",
    "###### <img src=\"https://www.gannett-cdn.com/presto/2019/08/05/USAT/f44c4aba-531f-44b0-ae1e-4d6d678d4bcc-AP_APTOPIX_Ohio_Shooting.JPG?width=750&height=500&fit=crop&format=pjpg&auto=webp\" alt=\"Mourners gather for a vigil at the scene of a mass shooting on Aug. 4, 2019, in Dayton, Ohio. Photo credit: John Minchillo, AP\" />"
   ]
  },
  {
   "attachments": {},
   "cell_type": "markdown",
   "metadata": {},
   "source": [
    "###### Mourners gather for a vigil at the scene of a mass shooting on Aug. 4, 2019, in Dayton, Ohio. Photo credit: John Minchillo, AP"
   ]
  },
  {
   "attachments": {},
   "cell_type": "markdown",
   "metadata": {},
   "source": [
    "# U.S. Mass Shooting Analysis (1982 - 2023)"
   ]
  },
  {
   "attachments": {},
   "cell_type": "markdown",
   "metadata": {},
   "source": [
    "The time is 2:20 PDT. \n",
    "\n",
    "In Half Moon Bay, California, 67-year old Chunli Zhao has opened fire at two nearby farms killing 7 victims and injuring 1. Zhun has just committed the 139th mass shooting* in the United States, only 23 days into the new year.\n",
    "\n",
    "Mass shootings are becoming an all too common occurrence in the United States... \n",
    "\n",
    "Our data acquired from [Mother Jones](https://www.motherjones.com/), an American progressive magazine focusing on news, commentary, and investigative journalism, contains the details of various mass shooting events in the U.S. across several categories. In this analysis, we are going to find the answers to questions like:\n",
    "\n",
    "- Should background checks for prior mental health issues be mandatory for buyers when purchasing a weapon?\n",
    "- Which governors have taken legislative action following a mass shooting in their state?\n",
    "\n",
    "### How should we define ‘mass shooting’?\n",
    "\n",
    "Sources like The Gun Violence Archive, an online archive of gun violence incidents collected from over 7,500 law enforcement, media, government and commercial sources daily, and CNN, define a mass shooting as one in which \"at least four people are shot, excluding the shooter.\" \n",
    "\n",
    "Mass Shooting Tracker, a crowd-sourced data base, defines mass shooting as “a single outburst of violence in which four or more people are shot.” Everytown For Gun Safety defines a mass shooting as any incident in which four or more people are shot and killed, excluding the shooter.\n",
    "\n",
    "While they're are multiple ways to define a mass shooting, the one I prefer as well as the one I believe used to standardize this Mother Jones database is the definition that cites a [2012 legislation defining](https://www.fbi.gov/file-repository/active-shooter-incidents-in-the-us-2021-052422.pdf/view) a “mass killing” as “three or more <u>killings</u> in a single incident.”\n",
    "        \n",
    "###### *Mother Jones Editor’s note 4/24/22: Readers may wonder why this database does not include [...] such attacks in which fewer than three victims died; for additional context on the challenges of defining and tracking mass shootings, and on our approach, see this [piece](https://www.nytimes.com/2015/12/04/opinion/how-many-mass-shootings-are-there-really.html) and this [piece](https://www.motherjones.com/politics/2015/12/no-there-were-not-355-mass-shootings-this-year/).*\n",
    "##### *A snapshot of our dataset:*\n",
    "\n"
   ]
  },
  {
   "cell_type": "code",
   "execution_count": 40,
   "metadata": {},
   "outputs": [
    {
     "name": "stdout",
     "output_type": "stream",
     "text": [
      "<class 'pandas.core.frame.DataFrame'>\n",
      "RangeIndex: 139 entries, 0 to 138\n",
      "Data columns (total 28 columns):\n",
      " #   Column                            Non-Null Count  Dtype  \n",
      "---  ------                            --------------  -----  \n",
      " 0   case_id                           139 non-null    int64  \n",
      " 1   name_of_shooting                  139 non-null    object \n",
      " 2   city                              139 non-null    object \n",
      " 3   state                             139 non-null    object \n",
      " 4   governor                          139 non-null    object \n",
      " 5   state_party_affiliation           139 non-null    object \n",
      " 6   city_state                        139 non-null    object \n",
      " 7   date                              139 non-null    object \n",
      " 8   shooter_first_name                139 non-null    object \n",
      " 9   shooter_name                      139 non-null    object \n",
      " 10  summary                           139 non-null    object \n",
      " 11  fatalities                        139 non-null    int64  \n",
      " 12  injured                           139 non-null    int64  \n",
      " 13  total_victims                     139 non-null    int64  \n",
      " 14  location_of_shooting              139 non-null    object \n",
      " 15  shooter_age                       139 non-null    int64  \n",
      " 16  prior_signs_mental_health_issues  139 non-null    object \n",
      " 17  mental_health_details             139 non-null    object \n",
      " 18  weapons_obtained_legally          139 non-null    object \n",
      " 19  where_obtained_desc               139 non-null    object \n",
      " 20  where_obtained                    139 non-null    object \n",
      " 21  weapon_type_desc                  139 non-null    object \n",
      " 22  weapon_type                       139 non-null    object \n",
      " 23  race                              139 non-null    object \n",
      " 24  gender                            139 non-null    object \n",
      " 25  latitude                          139 non-null    float64\n",
      " 26  longitude                         139 non-null    float64\n",
      " 27  year                              139 non-null    int64  \n",
      "dtypes: float64(2), int64(6), object(20)\n",
      "memory usage: 30.5+ KB\n"
     ]
    }
   ],
   "source": [
    "shoot.info()"
   ]
  },
  {
   "attachments": {},
   "cell_type": "markdown",
   "metadata": {},
   "source": [
    "##### **A few things to know about the data we have here...*\n",
    "\n",
    "This data was acquired, analyzed, cleaned and visualized from a single source, [Mother Jones](https://www.motherjones.com/politics/2012/12/mass-shootings-mother-jones-full-data/), an open-source database documenting mass shootings in the United States from 1982 - present.  \n",
    "\n",
    "###### *\"Our investigation provides an in-depth look at a distinct phenomenon—from the firearms used and mental health factors to the growing copycat problem. Tracking mass shootings is complex; we believe ours is the most useful approach for studying this specific phenomenon.\" For analysis and context on this data—including how we built the database, and a change to the baseline for victim fatalities with cases dating from January 2013—see our [Guide to Mass Shootings in America...](https://www.motherjones.com/politics/2012/07/mass-shootings-map/)- Mother Jones*\n",
    "\n",
    "There are 3 rows of data I'd like to explain:\n",
    "\n",
    "**Case Id: 14 Name: Sacramento County Church Shooting**\n",
    "\n",
    "- In this case, the shooter has been identified by reports as a \"random man\" without a first or last name. As such, that is his first name and shooter name in the dataset.\n",
    "\n",
    "\n",
    "**Case Id: 62 Name: San Bernardino Mass Shooting**\n",
    "\n",
    "**Case Id: 23 Name: Jersey City Kosher Market Shooting**\n",
    "\n",
    "- In both of these cases there are one male and one female shooter, creating a double name value (Syed & Tashfeen/David & Francine) in the [shooter_first_name] column and a (M & F) value in the [gender] column.\n",
    "\n",
    "- In the [shooter_age] column, in the case of the San Bernardino Mass Shooting, the shooters were the same age so the [shooter_ age] column was calculated as one age, 28.\n",
    "\n",
    "- In the case of Jersey City Kosher Market Shooting, the shooter age column was calculated based off of the individual ages of each shooter (David N. Anderson, 47, and Francine Graham, 50) giving them a [shooter_age] of 97*\n"
   ]
  },
  {
   "attachments": {},
   "cell_type": "markdown",
   "metadata": {},
   "source": [
    "##### With the data we have... let's start answering some questions. Follow along with my [Tableau story](https://public.tableau.com/app/profile/lokela.blanc/viz/MassShootingProjectV5/U_S_MassShootingAnalysis)! :"
   ]
  },
  {
   "cell_type": "code",
   "execution_count": 41,
   "metadata": {},
   "outputs": [],
   "source": [
    "import pandas as pd\n",
    "import numpy as np\n",
    "import matplotlib.pyplot as plt\n",
    "from matplotlib.pyplot import figure"
   ]
  },
  {
   "cell_type": "code",
   "execution_count": 43,
   "metadata": {},
   "outputs": [
    {
     "data": {
      "text/html": [
       "<div>\n",
       "<style scoped>\n",
       "    .dataframe tbody tr th:only-of-type {\n",
       "        vertical-align: middle;\n",
       "    }\n",
       "\n",
       "    .dataframe tbody tr th {\n",
       "        vertical-align: top;\n",
       "    }\n",
       "\n",
       "    .dataframe thead th {\n",
       "        text-align: right;\n",
       "    }\n",
       "</style>\n",
       "<table border=\"1\" class=\"dataframe\">\n",
       "  <thead>\n",
       "    <tr style=\"text-align: right;\">\n",
       "      <th></th>\n",
       "      <th>case_id</th>\n",
       "      <th>name_of_shooting</th>\n",
       "      <th>city</th>\n",
       "      <th>state</th>\n",
       "      <th>governor</th>\n",
       "      <th>state_party_affiliation</th>\n",
       "      <th>city_state</th>\n",
       "      <th>date</th>\n",
       "      <th>shooter_first_name</th>\n",
       "      <th>shooter_name</th>\n",
       "      <th>...</th>\n",
       "      <th>weapons_obtained_legally</th>\n",
       "      <th>where_obtained_desc</th>\n",
       "      <th>where_obtained</th>\n",
       "      <th>weapon_type_desc</th>\n",
       "      <th>weapon_type</th>\n",
       "      <th>race</th>\n",
       "      <th>gender</th>\n",
       "      <th>latitude</th>\n",
       "      <th>longitude</th>\n",
       "      <th>year</th>\n",
       "    </tr>\n",
       "  </thead>\n",
       "  <tbody>\n",
       "    <tr>\n",
       "      <th>0</th>\n",
       "      <td>1</td>\n",
       "      <td>Half Moon Bay Spree Shooting</td>\n",
       "      <td>Half Moon Bay</td>\n",
       "      <td>California</td>\n",
       "      <td>Gavin Newsom</td>\n",
       "      <td>D</td>\n",
       "      <td>Half Moon Bay, California</td>\n",
       "      <td>1/23/2023</td>\n",
       "      <td>Chunli</td>\n",
       "      <td>Chunli Zhao</td>\n",
       "      <td>...</td>\n",
       "      <td>Not Specified</td>\n",
       "      <td>Not specified</td>\n",
       "      <td>Not Specified</td>\n",
       "      <td>Not Specified</td>\n",
       "      <td>Not Specified</td>\n",
       "      <td>Asian</td>\n",
       "      <td>M</td>\n",
       "      <td>37.463600</td>\n",
       "      <td>-122.428600</td>\n",
       "      <td>2023</td>\n",
       "    </tr>\n",
       "    <tr>\n",
       "      <th>1</th>\n",
       "      <td>2</td>\n",
       "      <td>L.A. Dance Studio Mass Shooting</td>\n",
       "      <td>Monterey Park</td>\n",
       "      <td>California</td>\n",
       "      <td>Gavin Newsom</td>\n",
       "      <td>D</td>\n",
       "      <td>Monterey Park, California</td>\n",
       "      <td>1/21/2023</td>\n",
       "      <td>Huu</td>\n",
       "      <td>Huu Can Tran</td>\n",
       "      <td>...</td>\n",
       "      <td>Not Specified</td>\n",
       "      <td>Not specified</td>\n",
       "      <td>Not Specified</td>\n",
       "      <td>Semiautomatic Assault Weapon (Details Pending)</td>\n",
       "      <td>Not Specified</td>\n",
       "      <td>Asian</td>\n",
       "      <td>M</td>\n",
       "      <td>34.062511</td>\n",
       "      <td>-118.122849</td>\n",
       "      <td>2023</td>\n",
       "    </tr>\n",
       "    <tr>\n",
       "      <th>2</th>\n",
       "      <td>3</td>\n",
       "      <td>Virginia Walmart Shooting</td>\n",
       "      <td>Chesapeake</td>\n",
       "      <td>Virginia</td>\n",
       "      <td>Glenn Youngkin</td>\n",
       "      <td>R</td>\n",
       "      <td>Chesapeake, Virginia</td>\n",
       "      <td>11/22/2022</td>\n",
       "      <td>Andre</td>\n",
       "      <td>Andre Bing</td>\n",
       "      <td>...</td>\n",
       "      <td>Not Specified</td>\n",
       "      <td>Not specified</td>\n",
       "      <td>Not Specified</td>\n",
       "      <td>Semiautomatic Handgun</td>\n",
       "      <td>Semiautomatic Handgun</td>\n",
       "      <td>Black</td>\n",
       "      <td>M</td>\n",
       "      <td>36.779591</td>\n",
       "      <td>-76.288376</td>\n",
       "      <td>2022</td>\n",
       "    </tr>\n",
       "    <tr>\n",
       "      <th>3</th>\n",
       "      <td>4</td>\n",
       "      <td>LGBTQ Club Shooting</td>\n",
       "      <td>Colorado Springs</td>\n",
       "      <td>Colorado</td>\n",
       "      <td>Jared Polis</td>\n",
       "      <td>D</td>\n",
       "      <td>Colorado Springs, Colorado</td>\n",
       "      <td>11/19/2022</td>\n",
       "      <td>Anderson</td>\n",
       "      <td>Anderson L. Aldrich</td>\n",
       "      <td>...</td>\n",
       "      <td>Not Specified</td>\n",
       "      <td>Not specified</td>\n",
       "      <td>Not Specified</td>\n",
       "      <td>Semiautomatic Rifle; Semiautomatic Handgun</td>\n",
       "      <td>Two or More Types of Weapons</td>\n",
       "      <td>White</td>\n",
       "      <td>M</td>\n",
       "      <td>38.833882</td>\n",
       "      <td>-104.821363</td>\n",
       "      <td>2022</td>\n",
       "    </tr>\n",
       "    <tr>\n",
       "      <th>4</th>\n",
       "      <td>5</td>\n",
       "      <td>University Of Virginia Shooting</td>\n",
       "      <td>Charlottesville</td>\n",
       "      <td>Virginia</td>\n",
       "      <td>Glenn Youngkin</td>\n",
       "      <td>R</td>\n",
       "      <td>Charlottesville, Virginia</td>\n",
       "      <td>11/13/2022</td>\n",
       "      <td>Christopher</td>\n",
       "      <td>Christopher Darnell Jones Jr.</td>\n",
       "      <td>...</td>\n",
       "      <td>Yes</td>\n",
       "      <td>Dance's sporting goods; Colonial Heights, VA</td>\n",
       "      <td>Sporting Goods Store</td>\n",
       "      <td>Semiautomatic Pistol</td>\n",
       "      <td>Semiautomatic Pistol</td>\n",
       "      <td>Black</td>\n",
       "      <td>M</td>\n",
       "      <td>38.033554</td>\n",
       "      <td>-78.507980</td>\n",
       "      <td>2022</td>\n",
       "    </tr>\n",
       "    <tr>\n",
       "      <th>...</th>\n",
       "      <td>...</td>\n",
       "      <td>...</td>\n",
       "      <td>...</td>\n",
       "      <td>...</td>\n",
       "      <td>...</td>\n",
       "      <td>...</td>\n",
       "      <td>...</td>\n",
       "      <td>...</td>\n",
       "      <td>...</td>\n",
       "      <td>...</td>\n",
       "      <td>...</td>\n",
       "      <td>...</td>\n",
       "      <td>...</td>\n",
       "      <td>...</td>\n",
       "      <td>...</td>\n",
       "      <td>...</td>\n",
       "      <td>...</td>\n",
       "      <td>...</td>\n",
       "      <td>...</td>\n",
       "      <td>...</td>\n",
       "      <td>...</td>\n",
       "    </tr>\n",
       "    <tr>\n",
       "      <th>134</th>\n",
       "      <td>135</td>\n",
       "      <td>Shopping Centers Spree Killings</td>\n",
       "      <td>Palm Bay</td>\n",
       "      <td>Florida</td>\n",
       "      <td>Bob Martinez</td>\n",
       "      <td>R</td>\n",
       "      <td>Palm Bay, Florida</td>\n",
       "      <td>4/23/1987</td>\n",
       "      <td>William</td>\n",
       "      <td>William Cruse</td>\n",
       "      <td>...</td>\n",
       "      <td>Yes</td>\n",
       "      <td>Gun store in Norwood, OH the Oaks Trading Post...</td>\n",
       "      <td>Gun Store</td>\n",
       "      <td>One Rifle, One Revolver, One Shotgun</td>\n",
       "      <td>Two or More Types of Weapons</td>\n",
       "      <td>White</td>\n",
       "      <td>M</td>\n",
       "      <td>28.033189</td>\n",
       "      <td>-80.642970</td>\n",
       "      <td>1987</td>\n",
       "    </tr>\n",
       "    <tr>\n",
       "      <th>135</th>\n",
       "      <td>136</td>\n",
       "      <td>United States Postal Service Shooting</td>\n",
       "      <td>Edmond</td>\n",
       "      <td>Oklahoma</td>\n",
       "      <td>George Nigh</td>\n",
       "      <td>D</td>\n",
       "      <td>Edmond, Oklahoma</td>\n",
       "      <td>8/20/1986</td>\n",
       "      <td>Patrick</td>\n",
       "      <td>Patrick Sherrill</td>\n",
       "      <td>...</td>\n",
       "      <td>Yes</td>\n",
       "      <td>Issued by Oklahoma National Guard, where Sherr...</td>\n",
       "      <td>Issued</td>\n",
       "      <td>Three Semiautomatic Handguns</td>\n",
       "      <td>Semiautomatic Handgun</td>\n",
       "      <td>White</td>\n",
       "      <td>M</td>\n",
       "      <td>35.667201</td>\n",
       "      <td>-97.429370</td>\n",
       "      <td>1986</td>\n",
       "    </tr>\n",
       "    <tr>\n",
       "      <th>136</th>\n",
       "      <td>137</td>\n",
       "      <td>San Ysidro Mcdonald's Massacre</td>\n",
       "      <td>San Ysidro</td>\n",
       "      <td>California</td>\n",
       "      <td>George Deukmejian</td>\n",
       "      <td>R</td>\n",
       "      <td>San Ysidro, California</td>\n",
       "      <td>7/18/1984</td>\n",
       "      <td>James</td>\n",
       "      <td>James Oliver Huberty</td>\n",
       "      <td>...</td>\n",
       "      <td>Yes</td>\n",
       "      <td>Unknown</td>\n",
       "      <td>Unknown</td>\n",
       "      <td>One Semiautomatic Handgun, One Rifle (Assault)...</td>\n",
       "      <td>Two or More Types of Weapons</td>\n",
       "      <td>White</td>\n",
       "      <td>M</td>\n",
       "      <td>32.552001</td>\n",
       "      <td>-117.043081</td>\n",
       "      <td>1984</td>\n",
       "    </tr>\n",
       "    <tr>\n",
       "      <th>137</th>\n",
       "      <td>138</td>\n",
       "      <td>Dallas Nightclub Shooting</td>\n",
       "      <td>Dallas</td>\n",
       "      <td>Texas</td>\n",
       "      <td>Mark White</td>\n",
       "      <td>D</td>\n",
       "      <td>Dallas, Texas</td>\n",
       "      <td>6/29/1984</td>\n",
       "      <td>Abdelkrim</td>\n",
       "      <td>Abdelkrim Belachheb</td>\n",
       "      <td>...</td>\n",
       "      <td>No</td>\n",
       "      <td>Hines Boulevard Pawn Shop in Dallas, TX</td>\n",
       "      <td>Pawn Shop</td>\n",
       "      <td>One Semiautomatic Handgun</td>\n",
       "      <td>Semiautomatic Handgun</td>\n",
       "      <td>White</td>\n",
       "      <td>M</td>\n",
       "      <td>32.925166</td>\n",
       "      <td>-96.838676</td>\n",
       "      <td>1984</td>\n",
       "    </tr>\n",
       "    <tr>\n",
       "      <th>138</th>\n",
       "      <td>139</td>\n",
       "      <td>Welding Shop Shooting</td>\n",
       "      <td>Miami</td>\n",
       "      <td>Florida</td>\n",
       "      <td>Bob Graham</td>\n",
       "      <td>D</td>\n",
       "      <td>Miami, Florida</td>\n",
       "      <td>8/20/1982</td>\n",
       "      <td>Carl</td>\n",
       "      <td>Carl Robert Brown</td>\n",
       "      <td>...</td>\n",
       "      <td>Yes</td>\n",
       "      <td>Garcia Gun Center in Hialeah, FL</td>\n",
       "      <td>Gun Range</td>\n",
       "      <td>One Shotgun</td>\n",
       "      <td>Shotgun</td>\n",
       "      <td>White</td>\n",
       "      <td>M</td>\n",
       "      <td>25.796491</td>\n",
       "      <td>-80.226683</td>\n",
       "      <td>1982</td>\n",
       "    </tr>\n",
       "  </tbody>\n",
       "</table>\n",
       "<p>139 rows × 28 columns</p>\n",
       "</div>"
      ],
      "text/plain": [
       "     case_id                       name_of_shooting              city  \\\n",
       "0          1           Half Moon Bay Spree Shooting     Half Moon Bay   \n",
       "1          2        L.A. Dance Studio Mass Shooting     Monterey Park   \n",
       "2          3              Virginia Walmart Shooting        Chesapeake   \n",
       "3          4                    LGBTQ Club Shooting  Colorado Springs   \n",
       "4          5        University Of Virginia Shooting   Charlottesville   \n",
       "..       ...                                    ...               ...   \n",
       "134      135        Shopping Centers Spree Killings          Palm Bay   \n",
       "135      136  United States Postal Service Shooting            Edmond   \n",
       "136      137         San Ysidro Mcdonald's Massacre        San Ysidro   \n",
       "137      138              Dallas Nightclub Shooting            Dallas   \n",
       "138      139                  Welding Shop Shooting             Miami   \n",
       "\n",
       "          state           governor state_party_affiliation  \\\n",
       "0    California       Gavin Newsom                       D   \n",
       "1    California       Gavin Newsom                       D   \n",
       "2      Virginia     Glenn Youngkin                       R   \n",
       "3      Colorado        Jared Polis                       D   \n",
       "4      Virginia     Glenn Youngkin                       R   \n",
       "..          ...                ...                     ...   \n",
       "134     Florida       Bob Martinez                       R   \n",
       "135    Oklahoma        George Nigh                       D   \n",
       "136  California  George Deukmejian                       R   \n",
       "137       Texas         Mark White                       D   \n",
       "138     Florida         Bob Graham                       D   \n",
       "\n",
       "                     city_state        date shooter_first_name  \\\n",
       "0     Half Moon Bay, California   1/23/2023             Chunli   \n",
       "1     Monterey Park, California   1/21/2023                Huu   \n",
       "2          Chesapeake, Virginia  11/22/2022              Andre   \n",
       "3    Colorado Springs, Colorado  11/19/2022           Anderson   \n",
       "4     Charlottesville, Virginia  11/13/2022        Christopher   \n",
       "..                          ...         ...                ...   \n",
       "134           Palm Bay, Florida   4/23/1987            William   \n",
       "135            Edmond, Oklahoma   8/20/1986            Patrick   \n",
       "136      San Ysidro, California   7/18/1984              James   \n",
       "137               Dallas, Texas   6/29/1984          Abdelkrim   \n",
       "138              Miami, Florida   8/20/1982               Carl   \n",
       "\n",
       "                      shooter_name  ... weapons_obtained_legally  \\\n",
       "0                      Chunli Zhao  ...            Not Specified   \n",
       "1                     Huu Can Tran  ...            Not Specified   \n",
       "2                       Andre Bing  ...            Not Specified   \n",
       "3              Anderson L. Aldrich  ...            Not Specified   \n",
       "4    Christopher Darnell Jones Jr.  ...                      Yes   \n",
       "..                             ...  ...                      ...   \n",
       "134                  William Cruse  ...                      Yes   \n",
       "135               Patrick Sherrill  ...                      Yes   \n",
       "136           James Oliver Huberty  ...                      Yes   \n",
       "137            Abdelkrim Belachheb  ...                       No   \n",
       "138              Carl Robert Brown  ...                      Yes   \n",
       "\n",
       "                                   where_obtained_desc        where_obtained  \\\n",
       "0                                        Not specified         Not Specified   \n",
       "1                                        Not specified         Not Specified   \n",
       "2                                        Not specified         Not Specified   \n",
       "3                                        Not specified         Not Specified   \n",
       "4         Dance's sporting goods; Colonial Heights, VA  Sporting Goods Store   \n",
       "..                                                 ...                   ...   \n",
       "134  Gun store in Norwood, OH the Oaks Trading Post...             Gun Store   \n",
       "135  Issued by Oklahoma National Guard, where Sherr...                Issued   \n",
       "136                                            Unknown               Unknown   \n",
       "137            Hines Boulevard Pawn Shop in Dallas, TX             Pawn Shop   \n",
       "138                   Garcia Gun Center in Hialeah, FL             Gun Range   \n",
       "\n",
       "                                      weapon_type_desc  \\\n",
       "0                                        Not Specified   \n",
       "1       Semiautomatic Assault Weapon (Details Pending)   \n",
       "2                                Semiautomatic Handgun   \n",
       "3           Semiautomatic Rifle; Semiautomatic Handgun   \n",
       "4                                 Semiautomatic Pistol   \n",
       "..                                                 ...   \n",
       "134               One Rifle, One Revolver, One Shotgun   \n",
       "135                       Three Semiautomatic Handguns   \n",
       "136  One Semiautomatic Handgun, One Rifle (Assault)...   \n",
       "137                          One Semiautomatic Handgun   \n",
       "138                                        One Shotgun   \n",
       "\n",
       "                      weapon_type   race gender   latitude   longitude  year  \n",
       "0                   Not Specified  Asian      M  37.463600 -122.428600  2023  \n",
       "1                   Not Specified  Asian      M  34.062511 -118.122849  2023  \n",
       "2           Semiautomatic Handgun  Black      M  36.779591  -76.288376  2022  \n",
       "3    Two or More Types of Weapons  White      M  38.833882 -104.821363  2022  \n",
       "4            Semiautomatic Pistol  Black      M  38.033554  -78.507980  2022  \n",
       "..                            ...    ...    ...        ...         ...   ...  \n",
       "134  Two or More Types of Weapons  White      M  28.033189  -80.642970  1987  \n",
       "135         Semiautomatic Handgun  White      M  35.667201  -97.429370  1986  \n",
       "136  Two or More Types of Weapons  White      M  32.552001 -117.043081  1984  \n",
       "137         Semiautomatic Handgun  White      M  32.925166  -96.838676  1984  \n",
       "138                       Shotgun  White      M  25.796491  -80.226683  1982  \n",
       "\n",
       "[139 rows x 28 columns]"
      ]
     },
     "execution_count": 43,
     "metadata": {},
     "output_type": "execute_result"
    }
   ],
   "source": [
    "shoot = pd.read_csv(r'C:\\Users\\flowe\\OneDrive\\Documents\\MYSQL\\Mass Shooting project\\blancdemoV3.csv')\n",
    "shoot"
   ]
  },
  {
   "attachments": {},
   "cell_type": "markdown",
   "metadata": {},
   "source": [
    "Starting with U.S. cities, how many mass shooting events have taken place and where?"
   ]
  },
  {
   "cell_type": "code",
   "execution_count": 8,
   "metadata": {},
   "outputs": [
    {
     "data": {
      "text/plain": [
       "city\n",
       "Colorado Springs    3\n",
       "Aurora              3\n",
       "Fort Lauderdale     2\n",
       "Orange              2\n",
       "Orlando             2\n",
       "                   ..\n",
       "Goleta              1\n",
       "Gilroy              1\n",
       "Garden City         1\n",
       "Fresno              1\n",
       "Yountville          1\n",
       "Name: city, Length: 125, dtype: int64"
      ]
     },
     "execution_count": 8,
     "metadata": {},
     "output_type": "execute_result"
    }
   ],
   "source": [
    "shoot.groupby('city')['city'].count().sort_values(ascending=False)"
   ]
  },
  {
   "attachments": {},
   "cell_type": "markdown",
   "metadata": {},
   "source": [
    "Colorado Springs most recent mass shooting took place in 2022 at an LGBTQ nightclub. Anderson L. Aldrich, 22, wore body armor and opened fire upon entering the club as a dance party was underway; he was subdued by unarmed patrons who tackled him amid the carnage and held him down until police arrived.\n"
   ]
  },
  {
   "attachments": {},
   "cell_type": "markdown",
   "metadata": {},
   "source": [
    "Lets build a simple plot with this information:\n"
   ]
  },
  {
   "cell_type": "code",
   "execution_count": 9,
   "metadata": {},
   "outputs": [
    {
     "data": {
      "image/png": "[encoded data removed]",
      "text/plain": [
       "<Figure size 640x480 with 1 Axes>"
      ]
     },
     "metadata": {},
     "output_type": "display_data"
    },
    {
     "data": {
      "text/plain": [
       "<Figure size 3000x3000 with 0 Axes>"
      ]
     },
     "metadata": {},
     "output_type": "display_data"
    }
   ],
   "source": [
    "np_city = np.array(['Colorado Springs', 'Aurora', 'Fort Lauderdale', 'Orange', 'Orlando', 'Seattle', 'Dallas', 'Parkland', 'Springfield', 'San Francisco'])\n",
    "np_shoot = np.array([3, 3, 2, 2, 2, 2, 2, 2, 2, 2])\n",
    "points_size = [300,300,100,100,100,100,100,100,100,100]\n",
    "plt.scatter(np_city, np_shoot, s=points_size, c='#EB984E')\n",
    "\n",
    "# Strings\n",
    "xlab = 'City'\n",
    "ylab = 'Number of shootings'\n",
    "title = 'Number U.S. Mass Shooting by City'\n",
    "\n",
    "# Add axis labels\n",
    "plt.xlabel(xlab)\n",
    "plt.ylabel(ylab)\n",
    "plt.xticks(['Colorado Springs', 'Aurora', 'Fort Lauderdale', 'Orange', 'Orlando', 'Seattle', 'Dallas', 'Parkland', 'Springfield', 'San Francisco'],\n",
    "['CO.SPRG','AUR', 'FLL', 'ORNG', 'MCO', 'SEA', 'DAL', 'PARK', 'SPRGFLD', 'SNF'])\n",
    "\n",
    "# Add title\n",
    "plt.title(title)\n",
    "\n",
    "# After customizing, display the plot\n",
    "figure(figsize=(10, 10), dpi=300)\n",
    "plt.show() "
   ]
  },
  {
   "attachments": {},
   "cell_type": "markdown",
   "metadata": {},
   "source": [
    "How about U.S. states? "
   ]
  },
  {
   "cell_type": "code",
   "execution_count": 11,
   "metadata": {},
   "outputs": [
    {
     "data": {
      "text/plain": [
       "California        25\n",
       "Texas             12\n",
       "Florida           12\n",
       "Colorado           8\n",
       "Washington         7\n",
       "Pennsylvania       5\n",
       "Wisconsin          5\n",
       "New York           5\n",
       "Illinois           5\n",
       "Maryland           4\n",
       "Ohio               4\n",
       "Virginia           4\n",
       "Connecticut        3\n",
       "Michigan           3\n",
       "Georgia            3\n",
       "North Carolina     3\n",
       "Minnesota          2\n",
       "South Carolina     2\n",
       "Oregon             2\n",
       "Kentucky           2\n",
       "Tennessee          2\n",
       "Nevada             2\n",
       "Missouri           2\n",
       "Oklahoma           2\n",
       "Indiana            2\n",
       "Nebraska           1\n",
       "Arkansas           1\n",
       "Hawaii             1\n",
       "Massachusetts      1\n",
       "Mississippi        1\n",
       "Utah               1\n",
       "Arizona            1\n",
       "Louisiana          1\n",
       "Alabama            1\n",
       "D.C.               1\n",
       "New Jersey         1\n",
       "Kansas             1\n",
       "Iowa               1\n",
       "Name: state, dtype: int64"
      ]
     },
     "execution_count": 11,
     "metadata": {},
     "output_type": "execute_result"
    }
   ],
   "source": [
    "shoot['state'].value_counts()"
   ]
  },
  {
   "attachments": {},
   "cell_type": "markdown",
   "metadata": {},
   "source": [
    "25 mass shootings in the state of California alone. \n",
    "\n",
    "*On June 30, 2022, Governor Gavin Newsom signed Assembly Bill (AB) 1621 (stats. 2022, ch. 76). Among other things, AB 1621 replaces the current Penal Code section 30400. The new Penal Code section 30400, subdivision (a) takes effect immediately and states: “it shall be unlawful for a person to purchase, sell, offer to sell, or transfer ownership of any firearm precursor part in this state that is not a federally regulated firearm precursor part.” In other words, no firearm precursor parts may be legally purchased, sold, offered for sale, or transferred unless such firearm precursor parts meet the definition of a “federally regulated firearm precursor part.”* "
   ]
  },
  {
   "attachments": {},
   "cell_type": "markdown",
   "metadata": {},
   "source": [
    "Let's take a look at state party affiliation? Based on prior knowledge of party views, which states do you think would have more mass shootings events?\n"
   ]
  },
  {
   "cell_type": "code",
   "execution_count": 13,
   "metadata": {},
   "outputs": [
    {
     "data": {
      "text/plain": [
       "state_party_affiliation\n",
       "D    70\n",
       "R    69\n",
       "Name: state_party_affiliation, dtype: int64"
      ]
     },
     "execution_count": 13,
     "metadata": {},
     "output_type": "execute_result"
    }
   ],
   "source": [
    "shoot.groupby('state_party_affiliation')['state_party_affiliation'].count()"
   ]
  },
  {
   "attachments": {},
   "cell_type": "markdown",
   "metadata": {},
   "source": [
    "Surprised? Take a look at the dataset here and you might find some interesting stuff. Like when Texas was a Democratic state under Gov. Mark White in 1984."
   ]
  },
  {
   "attachments": {},
   "cell_type": "markdown",
   "metadata": {},
   "source": [
    "A dreaded question. Where have the most fatalities occured?"
   ]
  },
  {
   "attachments": {},
   "cell_type": "markdown",
   "metadata": {},
   "source": [
    "Per city?"
   ]
  },
  {
   "cell_type": "code",
   "execution_count": 17,
   "metadata": {},
   "outputs": [
    {
     "data": {
      "text/plain": [
       "city\n",
       "Las Vegas             58\n",
       "Orlando               54\n",
       "Blacksburg            32\n",
       "Newtown               27\n",
       "Sutherland Springs    26\n",
       "Killeen               24\n",
       "San Ysidro            22\n",
       "El Paso               22\n",
       "Aurora                21\n",
       "Parkland              21\n",
       "Uvalde                21\n",
       "Atlanta               17\n",
       "Fort Hood             16\n",
       "Edmond                15\n",
       "Binghamton            14\n",
       "San Bernardino        14\n",
       "Seattle               13\n",
       "Littleton             13\n",
       "Washington            12\n",
       "Thousand Oaks         12\n",
       "Virginia Beach        12\n",
       "San Francisco         12\n",
       "Fort Lauderdale       11\n",
       "Monterey Park         11\n",
       "Dallas                11\n",
       "Pittsburgh            11\n",
       "Colorado Springs      11\n",
       "Boulder               10\n",
       "Jacksonville          10\n",
       "Santa Fe              10\n",
       "Buffalo               10\n",
       "Red Lake              10\n",
       "San Jose               9\n",
       "Manchester             9\n",
       "Louisville             9\n",
       "Orange                 9\n",
       "Charleston             9\n",
       "Omaha                  9\n",
       "Roseburg               9\n",
       "Dayton                 9\n",
       "Springfield            8\n",
       "Seal Beach             8\n",
       "Indianapolis           8\n",
       "Goleta                 8\n",
       "Miami                  8\n",
       "Fort Worth             8\n",
       "Carthage               8\n",
       "Meridian               7\n",
       "Minneapolis            7\n",
       "Oak Creek              7\n",
       "Name: fatalities, dtype: int64"
      ]
     },
     "execution_count": 17,
     "metadata": {},
     "output_type": "execute_result"
    }
   ],
   "source": [
    "shoot.groupby('city')['fatalities'].sum().sort_values(ascending=False).head(50)"
   ]
  },
  {
   "attachments": {},
   "cell_type": "markdown",
   "metadata": {},
   "source": [
    "The Las Vegas Strip Masacre of 2017 is the single deadliest mass shooting event in U.S. history with a total of 58 fatalities and 604 total victims."
   ]
  },
  {
   "attachments": {},
   "cell_type": "markdown",
   "metadata": {},
   "source": [
    "Per state?"
   ]
  },
  {
   "cell_type": "code",
   "execution_count": 18,
   "metadata": {},
   "outputs": [
    {
     "data": {
      "text/plain": [
       "state\n",
       "California        175\n",
       "Texas             151\n",
       "Florida           126\n",
       "Nevada             63\n",
       "Colorado           53\n",
       "Virginia           53\n",
       "Connecticut        41\n",
       "New York           40\n",
       "Washington         37\n",
       "Wisconsin          28\n",
       "Pennsylvania       27\n",
       "Illinois           25\n",
       "Georgia            22\n",
       "Ohio               20\n",
       "Oklahoma           19\n",
       "North Carolina     17\n",
       "Minnesota          17\n",
       "Kentucky           15\n",
       "Michigan           15\n",
       "Maryland           14\n",
       "Oregon             13\n",
       "South Carolina     13\n",
       "D.C.               12\n",
       "Indiana            11\n",
       "Missouri           10\n",
       "Tennessee           9\n",
       "Nebraska            9\n",
       "Hawaii              7\n",
       "Massachusetts       7\n",
       "Mississippi         7\n",
       "Iowa                6\n",
       "Arizona             6\n",
       "Utah                6\n",
       "Arkansas            5\n",
       "New Jersey          4\n",
       "Kansas              3\n",
       "Louisiana           3\n",
       "Alabama             3\n",
       "Name: fatalities, dtype: int64"
      ]
     },
     "execution_count": 18,
     "metadata": {},
     "output_type": "execute_result"
    }
   ],
   "source": [
    "shoot.groupby('state')['fatalities'].sum().sort_values(ascending=False).head(50)"
   ]
  },
  {
   "attachments": {},
   "cell_type": "markdown",
   "metadata": {},
   "source": [
    "It feels like nowhere is safe. Dance studios, concert venues, supermarkets. Where have mass shooting events typically taken place?"
   ]
  },
  {
   "cell_type": "code",
   "execution_count": 19,
   "metadata": {},
   "outputs": [
    {
     "data": {
      "text/plain": [
       "Other        53\n",
       "Workplace    51\n",
       "School       20\n",
       "Religious     8\n",
       "Military      6\n",
       "Airport       1\n",
       "Name: location_of_shooting, dtype: int64"
      ]
     },
     "execution_count": 19,
     "metadata": {},
     "output_type": "execute_result"
    }
   ],
   "source": [
    "shoot['location_of_shooting'].value_counts().sort_values(ascending=False)"
   ]
  },
  {
   "attachments": {},
   "cell_type": "markdown",
   "metadata": {},
   "source": [
    "Let's take a look over the demographics of these offenders who are the oldest? Youngest?"
   ]
  },
  {
   "cell_type": "code",
   "execution_count": 26,
   "metadata": {},
   "outputs": [
    {
     "data": {
      "text/plain": [
       "22     97\n",
       "1      72\n",
       "8      70\n",
       "0      67\n",
       "106    66\n",
       "       ..\n",
       "5      15\n",
       "68     15\n",
       "113    15\n",
       "14     15\n",
       "114    11\n",
       "Name: shooter_age, Length: 139, dtype: int64"
      ]
     },
     "execution_count": 26,
     "metadata": {},
     "output_type": "execute_result"
    }
   ],
   "source": [
    "shoot['shooter_age'].sort_values(ascending=False)"
   ]
  },
  {
   "cell_type": "code",
   "execution_count": 53,
   "metadata": {},
   "outputs": [
    {
     "data": {
      "text/plain": [
       "mean    34.482014\n",
       "min     11.000000\n",
       "max     97.000000\n",
       "Name: shooter_age, dtype: float64"
      ]
     },
     "execution_count": 53,
     "metadata": {},
     "output_type": "execute_result"
    }
   ],
   "source": [
    "shoot.shooter_age.agg(['mean', 'min', 'max'])"
   ]
  },
  {
   "attachments": {},
   "cell_type": "markdown",
   "metadata": {},
   "source": [
    "###### * *check data summary notes for why max() is so high**"
   ]
  },
  {
   "attachments": {},
   "cell_type": "markdown",
   "metadata": {},
   "source": [
    "What are their genders?\n"
   ]
  },
  {
   "cell_type": "code",
   "execution_count": 35,
   "metadata": {},
   "outputs": [
    {
     "data": {
      "text/plain": [
       "M          134\n",
       "F            3\n",
       "M and F      2\n",
       "Name: gender, dtype: int64"
      ]
     },
     "execution_count": 35,
     "metadata": {},
     "output_type": "execute_result"
    }
   ],
   "source": [
    "shoot['gender'].value_counts().sort_values(ascending=False)"
   ]
  },
  {
   "attachments": {},
   "cell_type": "markdown",
   "metadata": {},
   "source": [
    "###### * *check data summary notes for (M & F) value**"
   ]
  },
  {
   "attachments": {},
   "cell_type": "markdown",
   "metadata": {},
   "source": [
    "Race?"
   ]
  },
  {
   "cell_type": "code",
   "execution_count": 34,
   "metadata": {},
   "outputs": [
    {
     "data": {
      "text/plain": [
       "White              73\n",
       "Black              24\n",
       "Not Specified      12\n",
       "Latino             11\n",
       "Asian              10\n",
       "Other               5\n",
       "Native American     3\n",
       "Unclear             1\n",
       "Name: race, dtype: int64"
      ]
     },
     "execution_count": 34,
     "metadata": {},
     "output_type": "execute_result"
    }
   ],
   "source": [
    "shoot['race'].value_counts().sort_values(ascending=False)"
   ]
  },
  {
   "attachments": {},
   "cell_type": "markdown",
   "metadata": {},
   "source": [
    "How many of these shooters had mental health issues prior to these events and had access to weapons? Should mandatory background checks be issued before someone can buy a weapon? Who should issue them? Should they be free? How long in between failing a background check can someone reapply? So many questions... "
   ]
  },
  {
   "cell_type": "code",
   "execution_count": 28,
   "metadata": {},
   "outputs": [
    {
     "data": {
      "text/plain": [
       "Yes              66\n",
       "Not Specified    26\n",
       "Unclear          24\n",
       "No               17\n",
       "TBD               5\n",
       "Unknown           1\n",
       "Name: prior_signs_mental_health_issues, dtype: int64"
      ]
     },
     "execution_count": 28,
     "metadata": {},
     "output_type": "execute_result"
    }
   ],
   "source": [
    "shoot['prior_signs_mental_health_issues'].value_counts().sort_values(ascending=False)"
   ]
  },
  {
   "attachments": {},
   "cell_type": "markdown",
   "metadata": {},
   "source": [
    "Learning a little more about the weapons used. In how many cases were they legally obtained?"
   ]
  },
  {
   "cell_type": "code",
   "execution_count": 29,
   "metadata": {},
   "outputs": [
    {
     "data": {
      "text/plain": [
       "Yes              94\n",
       "Not Specified    16\n",
       "No               16\n",
       "TBD               7\n",
       "Unknown           6\n",
       "Name: weapons_obtained_legally, dtype: int64"
      ]
     },
     "execution_count": 29,
     "metadata": {},
     "output_type": "execute_result"
    }
   ],
   "source": [
    "shoot['weapons_obtained_legally'].value_counts().sort_values(ascending=False)"
   ]
  },
  {
   "attachments": {},
   "cell_type": "markdown",
   "metadata": {},
   "source": [
    "Where are these weapons being purchased from?"
   ]
  },
  {
   "cell_type": "code",
   "execution_count": 32,
   "metadata": {},
   "outputs": [
    {
     "data": {
      "text/plain": [
       "Not Specified           47\n",
       "Gun Store               17\n",
       "Unknown                 15\n",
       "Unclear                 12\n",
       "Sporting Goods Store    11\n",
       "Stolen                  10\n",
       "Gun Range                7\n",
       "TBD                      3\n",
       "Pawn Shop                3\n",
       "Online                   3\n",
       "Gun Dealer               3\n",
       "Family Member            2\n",
       "Issued                   2\n",
       "Trading Post             2\n",
       "DIY                      1\n",
       "Gun Show                 1\n",
       "Name: where_obtained, dtype: int64"
      ]
     },
     "execution_count": 32,
     "metadata": {},
     "output_type": "execute_result"
    }
   ],
   "source": [
    "shoot['where_obtained'].value_counts().sort_values(ascending=False)"
   ]
  },
  {
   "attachments": {},
   "cell_type": "markdown",
   "metadata": {},
   "source": [
    "What types of weapons are being used?"
   ]
  },
  {
   "cell_type": "code",
   "execution_count": 33,
   "metadata": {},
   "outputs": [
    {
     "data": {
      "text/plain": [
       "Two or More Types of Weapons    55\n",
       "Semiautomatic Handgun           42\n",
       "Semiautomatic Rifle             14\n",
       "Handgun                         12\n",
       "Assault Rifle                    6\n",
       "Shotgun                          4\n",
       "Not Specified                    2\n",
       "Two or More Weapons              2\n",
       "Semiautomatic Pistol             1\n",
       "Revolver                         1\n",
       "Name: weapon_type, dtype: int64"
      ]
     },
     "execution_count": 33,
     "metadata": {},
     "output_type": "execute_result"
    }
   ],
   "source": [
    "shoot['weapon_type'].value_counts().sort_values(ascending=False)"
   ]
  },
  {
   "attachments": {},
   "cell_type": "markdown",
   "metadata": {},
   "source": [
    "In this notebook, we took a look at mass shooting events across the U.S. We extracted a few summary statistics from the data and unraveled some interesting facts and figures. What could the trend for mass shooting events look like over the next 5 years? 10? Head over to [Tableau](https://public.tableau.com/shared/QDT47WTNK?:display_count=n&:origin=viz_share_link) and take a look at some forecasted estimates."
   ]
  },
  {
   "attachments": {},
   "cell_type": "markdown",
   "metadata": {},
   "source": [
    "* *Creator's note: For the next part of this analysis, I am going to join our table to another table of victim data (names, ages, life expectancy, etc.) sourced from The Violence Project, a nonprofit, nonpartisan research center dedicated to reducing violence in society and using data and analysis to improve policy and practice, and create visualizatons based on patterns.*"
   ]
  }
 ],
 "metadata": {
  "kernelspec": {
   "display_name": "base",
   "language": "python",
   "name": "python3"
  },
  "language_info": {
   "codemirror_mode": {
    "name": "ipython",
    "version": 3
   },
   "file_extension": ".py",
   "mimetype": "text/x-python",
   "name": "python",
   "nbconvert_exporter": "python",
   "pygments_lexer": "ipython3",
   "version": "3.10.8"
  },
  "orig_nbformat": 4,
  "vscode": {
   "interpreter": {
    "hash": "0ec4f738f3836606823b7ea641985b15683ad8e1b4b3c130bf74d8343c8490e2"
   }
  }
 },
 "nbformat": 4,
 "nbformat_minor": 2
}
